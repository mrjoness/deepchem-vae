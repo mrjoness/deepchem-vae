{
 "cells": [
  {
   "cell_type": "code",
   "execution_count": 1,
   "id": "6f42ca9b",
   "metadata": {},
   "outputs": [],
   "source": [
    "import numpy as np\n",
    "import pandas as pd\n",
    "import deepchem as dc\n",
    "from deepchem.molnet import load_tox21\n",
    "from deepchem.molnet import load_hiv"
   ]
  },
  {
   "cell_type": "markdown",
   "id": "014ed2bb",
   "metadata": {},
   "source": [
    "#### Load data according to the following:\n",
    "https://github.com/deepchem/deepchem/blob/master/examples/hiv/hiv_tf_models.py\n",
    "\n",
    "#### Complete Smiles data is contained here\n",
    "https://github.com/deepchem/deepchem/blob/master/examples/hiv/HIV.csv"
   ]
  },
  {
   "cell_type": "code",
   "execution_count": 14,
   "id": "6a06103f",
   "metadata": {},
   "outputs": [
    {
     "name": "stdout",
     "output_type": "stream",
     "text": [
      "32901 CCOP(=O)(Nc1cccc(Cl)c1)OCC\n",
      "(32901, 1024) (32901, 1) (32901, 1)\n",
      "Of all ys, 31669 are 0s and 1232 are 1s\n"
     ]
    }
   ],
   "source": [
    "np.random.seed(123)\n",
    "\n",
    "# Load hiv dataset\n",
    "n_features = 1024\n",
    "hiv_tasks, hiv_datasets, transformers = load_hiv()\n",
    "train_dataset, valid_dataset, test_dataset = hiv_datasets\n",
    "\n",
    "# obtain smiles strings for each\n",
    "train_smiles, valid_smiles, test_smiles = train_dataset.ids, valid_dataset.ids, test_dataset.ids\n",
    "\n",
    "# inspect shape of fingerprinting data and distribution of output\n",
    "X_train, y_train, w_train = train_dataset.X, train_dataset.y, train_dataset.w\n",
    "\n",
    "print(len(train_smiles), train_smiles[0])\n",
    "print(X_train.shape, y_train.shape, w_train.shape) # ~32000 training molecules\n",
    "print(f'Of all ys, {np.sum(y_train==0)} are 0s and {np.sum(y_train==1)} are 1s')"
   ]
  },
  {
   "cell_type": "code",
   "execution_count": 15,
   "id": "6fe1a6d9",
   "metadata": {},
   "outputs": [
    {
     "name": "stdout",
     "output_type": "stream",
     "text": [
      "fitting\n"
     ]
    },
    {
     "data": {
      "text/plain": [
       "0.5813687515258789"
      ]
     },
     "execution_count": 15,
     "metadata": {},
     "output_type": "execute_result"
    }
   ],
   "source": [
    "# train a basic classiciation model\n",
    "model = dc.models.MultitaskClassifier(\n",
    "    len(hiv_tasks),\n",
    "    n_features,\n",
    "    layer_sizes=[100],\n",
    "    dropouts=[.25],\n",
    "    learning_rate=0.001,\n",
    "    batch_size=100,\n",
    "    n_epochs=2\n",
    ")\n",
    "\n",
    "# Fit trained model\n",
    "print('fitting')\n",
    "model.fit(train_dataset)"
   ]
  },
  {
   "cell_type": "code",
   "execution_count": 16,
   "id": "7762d9b9",
   "metadata": {},
   "outputs": [
    {
     "name": "stdout",
     "output_type": "stream",
     "text": [
      "Evaluating model\n",
      "{'mean-roc_auc_score': 0.9690518168756943} {'mean-roc_auc_score': 0.7780793773270624}\n"
     ]
    }
   ],
   "source": [
    "# Evaluate model performance \n",
    "\n",
    "metric_list = []\n",
    "metric_list.append(dc.metrics.Metric(dc.metrics.roc_auc_score, np.mean))\n",
    "#metric_list.append(dc.metrics.Metric(dc.metrics.acc, np.mean))\n",
    "\n",
    "print(\"Evaluating model\")\n",
    "# still not really sure what the transformers are doing here\n",
    "train_scores = model.evaluate(train_dataset, metric_list, transformers)\n",
    "valid_scores = model.evaluate(valid_dataset, metric_list, transformers)\n",
    "print(train_scores, valid_scores)"
   ]
  },
  {
   "cell_type": "code",
   "execution_count": null,
   "id": "3f0fcb79",
   "metadata": {},
   "outputs": [],
   "source": []
  }
 ],
 "metadata": {
  "kernelspec": {
   "display_name": "deep-chem",
   "language": "python",
   "name": "deep-chem"
  },
  "language_info": {
   "codemirror_mode": {
    "name": "ipython",
    "version": 3
   },
   "file_extension": ".py",
   "mimetype": "text/x-python",
   "name": "python",
   "nbconvert_exporter": "python",
   "pygments_lexer": "ipython3",
   "version": "3.7.12"
  }
 },
 "nbformat": 4,
 "nbformat_minor": 5
}
